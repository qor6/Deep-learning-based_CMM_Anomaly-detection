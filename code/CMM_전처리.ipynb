{
  "nbformat": 4,
  "nbformat_minor": 0,
  "metadata": {
    "colab": {
      "provenance": []
    },
    "kernelspec": {
      "name": "python3",
      "display_name": "Python 3"
    },
    "language_info": {
      "name": "python"
    }
  },
  "cells": [
    {
      "cell_type": "code",
      "source": [
        "import pandas as pd\n",
        "import os\n",
        "\n",
        "# 입력 및 출력 디렉토리 설정\n",
        "input_directory = \"large_data\"\n",
        "output_file = \"cmm_data.csv\"\n",
        "\n",
        "# 빈 리스트 생성\n",
        "deviation_rows = []\n",
        "quality_status = []\n",
        "file_names = []\n",
        "\n",
        "# 입력 디렉토리 내의 모든 파일에 대해 반복\n",
        "for filename in os.listdir(input_directory):\n",
        "    if filename.endswith(\".csv\"):\n",
        "        # CSV 파일 읽기\n",
        "        file_path = os.path.join(input_directory, filename)\n",
        "        df = pd.read_csv(file_path, delimiter=',', encoding='cp949', index_col=False)  # index_col=False 설정\n",
        "\n",
        "        # '항목' 열의 값이 \"SMmf\"인 행 제외\n",
        "        df = df[df['항목'] != \"SMmf\"]\n",
        "\n",
        "        # '도형_항목' 열 생성\n",
        "        df['도형_항목'] = df['도형'] + ',' + df['항목']\n",
        "\n",
        "        # 결측된 편차 값을 '-' 대신 'NaN'으로 바꾸기\n",
        "        df['편차'] = df['편차'].replace('-', pd.NA)\n",
        "\n",
        "        # 결측된 편차 값에 대해 평균 값 계산\n",
        "        avg_deviation = pd.to_numeric(df['편차'], errors='coerce').mean(skipna=True)  # 'NaN' 값은 자동으로 무시됨\n",
        "\n",
        "        # 결측된 편차 값을 평균 값으로 대체\n",
        "        df['편차'] = df['편차'].fillna(avg_deviation)\n",
        "\n",
        "        # 편차 값 추출\n",
        "        deviations = df['편차'].tolist()\n",
        "\n",
        "        # 파일명 저장\n",
        "        file_names.append(os.path.splitext(filename)[0])  # 파일명에서 확장자 제외하여 저장\n",
        "\n",
        "        # 품질상태 열 추가\n",
        "        if df.iloc[1, 16] == 'OK':  # 두 번째 열이 'OK'인 경우\n",
        "            quality_status.append(1)\n",
        "        else:\n",
        "            quality_status.append(0)\n",
        "\n",
        "        # 리스트에 추가\n",
        "        deviation_rows.append(deviations)\n",
        "\n",
        "# 편차를 행으로, 도형_항목을 열로 배치하여 데이터프레임 생성\n",
        "combined_data = pd.DataFrame(deviation_rows, columns=df['도형_항목'])  # '도형_항목' 열을 사용하여 DataFrame 생성\n",
        "\n",
        "# 파일명을 첫 번째 열로 추가\n",
        "combined_data.insert(0, '파일명', file_names)\n",
        "\n",
        "# 품질상태 열 추가\n",
        "combined_data['품질상태'] = quality_status\n",
        "\n",
        "# 결과를 CSV 파일로 저장\n",
        "combined_data.to_csv(output_file, encoding='cp949', index=False)  # 인덱스 저장 안 함\n"
      ],
      "metadata": {
        "colab": {
          "base_uri": "https://localhost:8080/"
        },
        "id": "AgXUa7pUysOc",
        "outputId": "c1b991c6-1308-4105-e7d8-7aa0abff575c"
      },
      "execution_count": 69,
      "outputs": [
        {
          "output_type": "stream",
          "name": "stderr",
          "text": [
            "<ipython-input-69-029dde76f3ba>:24: SettingWithCopyWarning: \n",
            "A value is trying to be set on a copy of a slice from a DataFrame.\n",
            "Try using .loc[row_indexer,col_indexer] = value instead\n",
            "\n",
            "See the caveats in the documentation: https://pandas.pydata.org/pandas-docs/stable/user_guide/indexing.html#returning-a-view-versus-a-copy\n",
            "  df['도형_항목'] = df['도형'] + ',' + df['항목']\n",
            "<ipython-input-69-029dde76f3ba>:27: SettingWithCopyWarning: \n",
            "A value is trying to be set on a copy of a slice from a DataFrame.\n",
            "Try using .loc[row_indexer,col_indexer] = value instead\n",
            "\n",
            "See the caveats in the documentation: https://pandas.pydata.org/pandas-docs/stable/user_guide/indexing.html#returning-a-view-versus-a-copy\n",
            "  df['편차'] = df['편차'].replace('-', pd.NA)\n",
            "<ipython-input-69-029dde76f3ba>:33: SettingWithCopyWarning: \n",
            "A value is trying to be set on a copy of a slice from a DataFrame.\n",
            "Try using .loc[row_indexer,col_indexer] = value instead\n",
            "\n",
            "See the caveats in the documentation: https://pandas.pydata.org/pandas-docs/stable/user_guide/indexing.html#returning-a-view-versus-a-copy\n",
            "  df['편차'] = df['편차'].fillna(avg_deviation)\n"
          ]
        }
      ]
    },
    {
      "cell_type": "code",
      "source": [],
      "metadata": {
        "id": "oyOA70IWy1yF"
      },
      "execution_count": null,
      "outputs": []
    }
  ]
}